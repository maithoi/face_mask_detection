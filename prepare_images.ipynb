{
  "nbformat": 4,
  "nbformat_minor": 0,
  "metadata": {
    "colab": {
      "name": "prepare-images.ipynb",
      "provenance": [],
      "collapsed_sections": [],
      "toc_visible": true,
      "include_colab_link": true
    },
    "kernelspec": {
      "name": "python3",
      "display_name": "Python 3"
    }
  },
  "cells": [
    {
      "cell_type": "markdown",
      "metadata": {
        "id": "view-in-github",
        "colab_type": "text"
      },
      "source": [
        "<a href=\"https://colab.research.google.com/github/maithoi/thesis/blob/main/prepare_images.ipynb\" target=\"_parent\"><img src=\"https://colab.research.google.com/assets/colab-badge.svg\" alt=\"Open In Colab\"/></a>"
      ]
    },
    {
      "cell_type": "code",
      "metadata": {
        "id": "Z_jDOygzZDXb"
      },
      "source": [
        "print ('hey Lea')"
      ],
      "execution_count": null,
      "outputs": []
    },
    {
      "cell_type": "code",
      "metadata": {
        "id": "aEq1TkhLdgCz"
      },
      "source": [
        "# Liên kết với google driver\n",
        "from google.colab import drive\n",
        "drive.mount('/content/gdrive')\n",
        "!ln -s /content/gdrive/My\\ Drive/ /mydrive\n",
        "!ls /mydrive"
      ],
      "execution_count": null,
      "outputs": []
    },
    {
      "cell_type": "markdown",
      "metadata": {
        "id": "sYs2srNAIgyU"
      },
      "source": [
        "# 1. Collect data \n",
        "## 1.1 Capture image frames from video \n"
      ]
    },
    {
      "cell_type": "code",
      "metadata": {
        "id": "R_Efjl7vHdPX",
        "colab": {
          "base_uri": "https://localhost:8080/"
        },
        "outputId": "bcc740d5-50fd-459c-b3af-3b83bcea038c"
      },
      "source": [
        "import cv2\n",
        "vidcap = cv2.VideoCapture('/content/gdrive/MyDrive/Label/IMG_0196.mp4')\n",
        "success,image = vidcap.read()\n",
        "count = 0\n",
        "while success:\n",
        "    if count % 5 == 0:\n",
        "        cv2.imwrite(\"IMG_0196%d.jpg\" % count, image)     # save frame as JPEG file      \n",
        "        success,image = vidcap.read()\n",
        "        print('Read a new frame: ', success)\n",
        "        count += 1\n",
        "    else:\n",
        "        success,image = vidcap.read()\n",
        "        count += 1"
      ],
      "execution_count": null,
      "outputs": [
        {
          "output_type": "stream",
          "text": [
            "Read a new frame:  True\n",
            "Read a new frame:  True\n",
            "Read a new frame:  True\n",
            "Read a new frame:  True\n",
            "Read a new frame:  True\n",
            "Read a new frame:  True\n",
            "Read a new frame:  True\n",
            "Read a new frame:  True\n",
            "Read a new frame:  True\n",
            "Read a new frame:  True\n",
            "Read a new frame:  True\n",
            "Read a new frame:  True\n",
            "Read a new frame:  True\n",
            "Read a new frame:  True\n",
            "Read a new frame:  True\n",
            "Read a new frame:  True\n",
            "Read a new frame:  True\n",
            "Read a new frame:  True\n",
            "Read a new frame:  True\n",
            "Read a new frame:  True\n",
            "Read a new frame:  True\n",
            "Read a new frame:  True\n",
            "Read a new frame:  True\n",
            "Read a new frame:  True\n",
            "Read a new frame:  True\n",
            "Read a new frame:  True\n",
            "Read a new frame:  True\n",
            "Read a new frame:  True\n",
            "Read a new frame:  True\n",
            "Read a new frame:  True\n",
            "Read a new frame:  True\n",
            "Read a new frame:  True\n",
            "Read a new frame:  True\n",
            "Read a new frame:  True\n",
            "Read a new frame:  True\n",
            "Read a new frame:  True\n",
            "Read a new frame:  True\n",
            "Read a new frame:  True\n",
            "Read a new frame:  True\n",
            "Read a new frame:  True\n",
            "Read a new frame:  True\n",
            "Read a new frame:  True\n",
            "Read a new frame:  True\n",
            "Read a new frame:  True\n",
            "Read a new frame:  True\n",
            "Read a new frame:  True\n",
            "Read a new frame:  True\n",
            "Read a new frame:  True\n",
            "Read a new frame:  True\n",
            "Read a new frame:  True\n",
            "Read a new frame:  True\n",
            "Read a new frame:  True\n",
            "Read a new frame:  True\n",
            "Read a new frame:  True\n",
            "Read a new frame:  True\n",
            "Read a new frame:  True\n",
            "Read a new frame:  True\n",
            "Read a new frame:  True\n",
            "Read a new frame:  True\n",
            "Read a new frame:  True\n",
            "Read a new frame:  True\n",
            "Read a new frame:  True\n",
            "Read a new frame:  True\n",
            "Read a new frame:  True\n",
            "Read a new frame:  True\n",
            "Read a new frame:  True\n",
            "Read a new frame:  True\n",
            "Read a new frame:  True\n"
          ],
          "name": "stdout"
        }
      ]
    },
    {
      "cell_type": "code",
      "metadata": {
        "colab": {
          "base_uri": "https://localhost:8080/"
        },
        "id": "mMqluGLxgKv9",
        "outputId": "0577b439-fb80-4f1c-bb54-1d888ae088ba"
      },
      "source": [
        "import os\n",
        "print(os.getcwd())\n",
        "print(os.listdir())"
      ],
      "execution_count": null,
      "outputs": [
        {
          "output_type": "stream",
          "text": [
            "/content\n",
            "['.config', 'IMG_0104280.jpg', 'IMG_0196320.jpg', 'IMG_0104295.jpg', 'IMG_0196240.jpg', 'frame105.jpg', 'IMG_0104255.jpg', 'IMG_010410.jpg', 'IMG_01045.jpg', 'IMG_0196190.jpg', 'frame110.jpg', 'IMG_0196155.jpg', 'IMG_0196300.jpg', 'IMG_0196180.jpg', 'IMG_0104315.jpg', 'IMG_0104210.jpg', 'IMG_0196120.jpg', 'IMG_0196125.jpg', 'IMG_0104270.jpg', 'IMG_0104150.jpg', 'IMG_019655.jpg', 'frame145.jpg', 'frame95.jpg', 'IMG_010470.jpg', 'IMG_0196160.jpg', 'IMG_0104220.jpg', 'frame75.jpg', 'IMG_0104265.jpg', 'frame80.jpg', 'IMG_0104130.jpg', 'IMG_0196265.jpg', 'IMG_019640.jpg', 'IMG_010475.jpg', 'IMG_0196225.jpg', 'IMG_0104215.jpg', 'frame60.jpg', 'IMG_019670.jpg', 'IMG_0104250.jpg', 'IMG_0104170.jpg', 'IMG_010430.jpg', 'IMG_0104205.jpg', 'IMG_019685.jpg', 'IMG_0196335.jpg', 'frame50.jpg', 'IMG_0196140.jpg', 'IMG_0104185.jpg', 'IMG_0196285.jpg', 'IMG_0104245.jpg', 'frame45.jpg', 'IMG_0196170.jpg', 'IMG_0196135.jpg', 'IMG_01960.jpg', 'frame70.jpg', 'frame30.jpg', 'frame120.jpg', 'frame160.jpg', 'IMG_0104335.jpg', 'frame150.jpg', 'IMG_0104275.jpg', 'IMG_0104180.jpg', 'IMG_01040.jpg', 'IMG_019660.jpg', 'IMG_0196325.jpg', 'IMG_0196150.jpg', 'IMG_0196165.jpg', 'frame155.jpg', 'gdrive', 'IMG_010480.jpg', 'IMG_010420.jpg', 'IMG_0104175.jpg', 'IMG_010435.jpg', 'IMG_019625.jpg', 'IMG_0196275.jpg', 'IMG_0196315.jpg', 'IMG_0104.zip', 'frame85.jpg', 'IMG_0196330.jpg', 'frame5.jpg', 'IMG_019630.jpg', 'frame20.jpg', 'frame35.jpg', 'IMG_0196260.jpg', 'IMG_0104305.jpg', 'IMG_010450.jpg', 'frame0.jpg', 'IMG_0104260.jpg', 'IMG_0104100.jpg', 'IMG_0104145.jpg', 'frame55.jpg', 'frame100.jpg', 'IMG_0196200.jpg', 'IMG_0196185.jpg', 'IMG_0196295.jpg', 'IMG_010415.jpg', 'IMG_0104320.jpg', 'frame15.jpg', 'IMG_0196230.jpg', 'IMG_010425.jpg', 'frame115.jpg', 'frame10.jpg', 'IMG_0196305.jpg', 'IMG_0104155.jpg', 'IMG_0196115.jpg', 'IMG_019620.jpg', 'IMG_0104240.jpg', 'IMG_0104285.jpg', 'IMG_0196235.jpg', 'IMG_0196105.jpg', 'IMG_019615.jpg', 'frame25.jpg', 'frame170.jpg', 'IMG_0104120.jpg', 'IMG_0196245.jpg', '.ipynb_checkpoints', 'IMG_0104225.jpg', 'IMG_010490.jpg', 'IMG_019645.jpg', 'IMG_019690.jpg', 'IMG_0196195.jpg', 'IMG_0104325.jpg', 'IMG_010455.jpg', 'IMG_0104330.jpg', 'frame125.jpg', 'IMG_0104195.jpg', 'IMG_019635.jpg', 'IMG_0196175.jpg', 'IMG_019650.jpg', 'IMG_0104300.jpg', 'frame65.jpg', 'IMG_0196215.jpg', 'frame90.jpg', 'IMG_010485.jpg', 'IMG_0196290.jpg', 'IMG_0196280.jpg', 'IMG_0104160.jpg', 'IMG_0196250.jpg', 'IMG_0103.zip', 'IMG_0104310.jpg', 'IMG_0104110.jpg', 'IMG_010465.jpg', 'IMG_0104105.jpg', 'frame40.jpg', 'frame140.jpg', 'IMG_019665.jpg', 'IMG_010440.jpg', 'IMG_01965.jpg', 'IMG_0196220.jpg', 'IMG_010495.jpg', 'IMG_0196130.jpg', 'IMG_0196145.jpg', 'IMG_0104230.jpg', 'IMG_019675.jpg', 'IMG_0104190.jpg', 'frame165.jpg', 'frame135.jpg', 'IMG_0196210.jpg', 'IMG_010445.jpg', 'IMG_0104135.jpg', 'IMG_019680.jpg', 'IMG_010460.jpg', 'IMG_0104235.jpg', 'IMG_0104140.jpg', 'IMG_0196100.jpg', 'IMG_0196110.jpg', 'IMG_0104115.jpg', 'frame130.jpg', 'IMG_0196270.jpg', 'IMG_0104165.jpg', 'IMG_0104290.jpg', 'IMG_019695.jpg', 'IMG_0104125.jpg', 'IMG_0196255.jpg', 'IMG_0104200.jpg', 'IMG_019610.jpg', 'IMG_0196205.jpg', 'IMG_0196310.jpg', 'sample_data']\n"
          ],
          "name": "stdout"
        }
      ]
    },
    {
      "cell_type": "code",
      "metadata": {
        "id": "IzBF7kRc51Od",
        "colab": {
          "base_uri": "https://localhost:8080/"
        },
        "outputId": "50183f83-210c-47b9-fe50-f1afad99ec42"
      },
      "source": [
        "import os, os.path\n",
        "# simple version for working with CWD\n",
        "print (len([name for name in os.listdir('.') if os.path.isfile(name)]))"
      ],
      "execution_count": null,
      "outputs": [
        {
          "output_type": "stream",
          "text": [
            "173\n"
          ],
          "name": "stdout"
        }
      ]
    },
    {
      "cell_type": "markdown",
      "metadata": {
        "id": "vqp-mHIneG2q"
      },
      "source": [
        "## Save all captured images"
      ]
    },
    {
      "cell_type": "markdown",
      "metadata": {
        "id": "2TezFY1K7LFH"
      },
      "source": [
        "## Download an entire folder "
      ]
    },
    {
      "cell_type": "code",
      "metadata": {
        "id": "rTsEX2m-2U82"
      },
      "source": [
        "\\\\\\\\\\# !zip -r /content/file.zip /content/Folder_To_Zip\n",
        "!zip -r /content/IMG_0196.zip /content/*jpg"
      ],
      "execution_count": null,
      "outputs": []
    },
    {
      "cell_type": "markdown",
      "metadata": {
        "id": "JRD9IIhxqihS"
      },
      "source": [
        "#2. Process Data \n",
        "## 2.1 Rename data \n"
      ]
    },
    {
      "cell_type": "code",
      "metadata": {
        "id": "lippKlRxqlJn"
      },
      "source": [
        ""
      ],
      "execution_count": null,
      "outputs": []
    },
    {
      "cell_type": "markdown",
      "metadata": {
        "id": "UO-U3pxgqsvF"
      },
      "source": [
        "## 2.2 Label data \n"
      ]
    }
  ]
}
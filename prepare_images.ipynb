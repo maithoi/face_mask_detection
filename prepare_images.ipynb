{
  "nbformat": 4,
  "nbformat_minor": 0,
  "metadata": {
    "colab": {
      "name": "prepare-images.ipynb",
      "provenance": [],
      "collapsed_sections": [],
      "toc_visible": true,
      "mount_file_id": "1ZFaCKpFo8AbblhfqshGaMdhhxkaDx_NY",
      "authorship_tag": "ABX9TyNN3Z14FmpCvjDbqDXY7JfX",
      "include_colab_link": true
    },
    "kernelspec": {
      "name": "python3",
      "display_name": "Python 3"
    }
  },
  "cells": [
    {
      "cell_type": "markdown",
      "metadata": {
        "id": "view-in-github",
        "colab_type": "text"
      },
      "source": [
        "<a href=\"https://colab.research.google.com/github/maithoi/thesis/blob/main/prepare_images.ipynb\" target=\"_parent\"><img src=\"https://colab.research.google.com/assets/colab-badge.svg\" alt=\"Open In Colab\"/></a>"
      ]
    },
    {
      "cell_type": "code",
      "metadata": {
        "colab": {
          "base_uri": "https://localhost:8080/"
        },
        "id": "aEq1TkhLdgCz",
        "outputId": "17232a84-726c-4163-e34f-7e599539aea7"
      },
      "source": [
        "# Liên kết với google driver\n",
        "from google.colab import drive\n",
        "drive.mount('/content/gdrive')\n",
        "!ln -s /content/gdrive/My\\ Drive/ /mydrive\n",
        "!ls /mydrive"
      ],
      "execution_count": null,
      "outputs": [
        {
          "output_type": "stream",
          "text": [
            "Drive already mounted at /content/gdrive; to attempt to forcibly remount, call drive.mount(\"/content/gdrive\", force_remount=True).\n",
            "ln: failed to create symbolic link '/mydrive/My Drive': File exists\n",
            " 0.Thesis\n",
            " 1.Career\n",
            " 22feb-20mar.gsheet\n",
            "'9-DCMH - Mang may tinh - 405015.gdoc'\n",
            "'Beat Task1.gdoc'\n",
            "'Beautiful words.gsheet'\n",
            "'Big Pictures.gjam'\n",
            " BME-Assignment.gdoc\n",
            "'Cal Newport - So good they can'\\''t ignore you_ why skills trump passion in the quest for work you love-Business Plus (2012).mobi'\n",
            " Careeer.gdoc\n",
            " CAREERS\n",
            "'Chapter10 - Email.gslides'\n",
            "'Chapter11-Network Managment-3ed.gslides'\n",
            "'Chapter1 - Data link Layer (1).gslides'\n",
            "'Chapter1 - Data link Layer.gslides'\n",
            " Chapter1-Introduction.gslides\n",
            "'Chapter2- Mac Protocol.gslides'\n",
            "'Chapter3 - Spanning Tree.gslides'\n",
            "'Chapter4 - Internet Protocol.gslides'\n",
            "'Chapter5 - Routing.gslides'\n",
            "'Chapter6 - Transport Layer.gslides'\n",
            "'Chapter7 - DNS.gslides'\n",
            "'Chapter8 - FTP (1).gslides'\n",
            "'Chapter8 - FTP (2).gslides'\n",
            "'Chapter8 - FTP (3).gslides'\n",
            "'Chapter8 - FTP (4).gslides'\n",
            "'Chapter8 - FTP.gslides'\n",
            "'Chapter9 - HTTP.gslides'\n",
            "'Chrome OS Cloud backup'\n",
            "'Coding Interview - Practice where It hurts.gdoc'\n",
            "'Colab Notebooks'\n",
            " cominghome2020.pdf\n",
            "'Copy of KẾ HOẠCH TỔ CHỨC ONLINE MEETING.gdoc'\n",
            "'Copy of Nội dung cho Online Meeting 2 - Chị Thư.gdoc'\n",
            "'Copy of Nội dung cho Online Meeting 2 - Tín.gdoc'\n",
            " coursera.png\n",
            " CREATE\n",
            "'CREATIVE WRITING.gdoc'\n",
            "'da.md '\n",
            " DataCamp_project\n",
            "'DEEP WORK - ACTIONABLE CRAFT.gdoc'\n",
            "'Do Research Online Correctly'\n",
            " DSA\n",
            "'EE3111_002321_DH_HK192 Điểm.gsheet'\n",
            "'English Grammar .gdoc'\n",
            "'face_mask_detection '\n",
            "'FLUENT IN ENGLISH.gdoc'\n",
            "'FTP .gslides'\n",
            "'Get This Done!'\n",
            " GRADUATE\n",
            " Gram.gdoc\n",
            "'Great at work - Actionable experiments.gdoc'\n",
            "'(Ho & Ten) - Thoi Gian Bieu.gsheet'\n",
            "'How to learn effectively.gdoc'\n",
            "'IELTS - WRITING.gdoc'\n",
            "'I Fit.gdoc'\n",
            "'I Made It!'\n",
            " IMG_0083.MOV\n",
            " intern-hk193.gsheet\n",
            "'jobs listing .gsheet'\n",
            " KAGGLE\n",
            "'Kami Uploads'\n",
            " Khoi-thesis.gslides\n",
            " Latex.gdoc\n",
            "'LATIN - DUOLINGO.gdoc'\n",
            " ListOfCompany.gsheet\n",
            " Mai_Van_Thoi.zip\n",
            "'Make progress'\n",
            "'Malcolm Gladwell .gdoc'\n",
            " MEM.gsheet\n",
            "'Mind Mapping  .gjam'\n",
            "'MITx - 18:05.gdoc'\n",
            " momo-test-da-submit.gdoc\n",
            "'Monthly budget.gsheet'\n",
            "'My Drive'\n",
            " NetworkEngineering.gdoc\n",
            " NLP\n",
            " NMT.gsheet\n",
            "'Nội dung cho Online Meeting 2 - Chị Thư.docx'\n",
            " OM-Friends\n",
            "'On searching.gdoc'\n",
            " Pandas.gsheet\n",
            " Penser.gdoc\n",
            " People\n",
            " People.gsheet\n",
            "'People who I love & care about.gdoc'\n",
            "'Practice task2.gdoc'\n",
            " PROBABILITY.gdoc\n",
            "'Project Proposal.gdoc'\n",
            " Psychology.gdoc\n",
            " Read\n",
            "'Report progress__ Do an___Cultivate domain knowledge.gsheet'\n",
            " resume\n",
            " R.gdoc\n",
            " R.gsheet\n",
            " RHLogo_white.svg\n",
            " schedule_project_luanvan.gsheet\n",
            " schedule_project_luanvan.xlsx\n",
            "'Screenshot 2021-03-05 at 21.49.17.png'\n",
            "'SEMV INTERN NOTES.gdoc'\n",
            " SPEND\n",
            "'Statistical Learning.gdoc'\n",
            "'Statistics & Probability.gdoc'\n",
            "'Test prepare.gdoc'\n",
            " Thesis.gdoc\n",
            " thesis_KHOI_K16.gdoc\n",
            "'The tipping point - the note.gdoc'\n",
            "'Thông tin SV năm cuối - và SV Nhom Nong Cot (1).gsheet'\n",
            "'Thông tin SV năm cuối - và SV Nhom Nong Cot.gsheet'\n",
            "'To-do list.gsheet'\n",
            "'tot nghiep.gdoc'\n",
            "'Traductions enregistrées.gsheet'\n",
            " TTTN-Report.gdoc\n",
            "'Unit 1 IELTS (TENSES).gslides'\n",
            "'Untitled spreadsheet.gsheet'\n",
            "'US HISTORY.gdoc'\n",
            " VietAI\n",
            " VietAI_Docs.zip\n",
            " Vietcombank_Account_Statement.gsheet\n",
            "'Write '\n",
            "'writing t1&t2.gdoc'\n"
          ],
          "name": "stdout"
        }
      ]
    },
    {
      "cell_type": "markdown",
      "metadata": {
        "id": "sYs2srNAIgyU"
      },
      "source": [
        "# 1. Collect data \n",
        "## 1.1 Capture image frames from video \n"
      ]
    },
    {
      "cell_type": "code",
      "metadata": {
        "id": "R_Efjl7vHdPX",
        "colab": {
          "base_uri": "https://localhost:8080/"
        },
        "outputId": "8da3fd02-821d-4105-b07e-09e4b5072d1a"
      },
      "source": [
        "import cv2\n",
        "vidcap = cv2.VideoCapture('/content/gdrive/MyDrive/0.Thesis/data/Cor4-well-labeling.mp4')\n",
        "success,image = vidcap.read()\n",
        "count = 0\n",
        "while success:\n",
        "    if count % 30 == 0:\n",
        "        cv2.imwrite(\"frame%d.jpg\" % count, image)     # save frame as JPEG file      \n",
        "        success,image = vidcap.read()\n",
        "        print('Read a new frame: ', success)\n",
        "        count += 1\n",
        "    else:\n",
        "        success,image = vidcap.read()\n",
        "        count += 1"
      ],
      "execution_count": null,
      "outputs": [
        {
          "output_type": "stream",
          "text": [
            "Read a new frame:  True\n",
            "Read a new frame:  True\n",
            "Read a new frame:  True\n",
            "Read a new frame:  True\n",
            "Read a new frame:  True\n",
            "Read a new frame:  True\n",
            "Read a new frame:  True\n",
            "Read a new frame:  True\n",
            "Read a new frame:  True\n",
            "Read a new frame:  True\n",
            "Read a new frame:  True\n",
            "Read a new frame:  False\n"
          ],
          "name": "stdout"
        }
      ]
    },
    {
      "cell_type": "code",
      "metadata": {
        "colab": {
          "base_uri": "https://localhost:8080/"
        },
        "id": "oizcoGV2alBF",
        "outputId": "f039ce1e-ff49-46f6-8b74-9d8695238026"
      },
      "source": [
        "import os\n",
        "print(os.getcwd())\n",
        "print(os.listdir())"
      ],
      "execution_count": null,
      "outputs": [
        {
          "output_type": "stream",
          "text": [
            "/content\n",
            "['.config', 'frame1080.jpg', 'frame240.jpg', 'frame960.jpg', 'frame1290.jpg', 'frame600.jpg', 'frame930.jpg', 'frame1680.jpg', 'frame900.jpg', 'frame1740.jpg', 'frame30.jpg', 'frame1830.jpg', 'frame1170.jpg', 'frame1470.jpg', 'gdrive', 'frame300.jpg', 'frame720.jpg', 'frame420.jpg', 'file.zip', 'frame810.jpg', 'frame480.jpg', 'frame1560.jpg', 'drive', 'frame1110.jpg', 'frame180.jpg', 'frame630.jpg', 'frame870.jpg', 'frame270.jpg', 'frame0.jpg', 'frame90.jpg', 'frame1440.jpg', 'frame1350.jpg', 'frame150.jpg', 'frame1530.jpg', 'frame1800.jpg', 'frame1200.jpg', 'frame1020.jpg', 'frame1710.jpg', 'frame780.jpg', 'frame1500.jpg', 'frame1410.jpg', 'frame1590.jpg', 'frame840.jpg', 'frame1620.jpg', 'frame660.jpg', 'frame1650.jpg', 'frame210.jpg', 'frame1230.jpg', 'frame570.jpg', 'frame360.jpg', 'frame60.jpg', 'frame540.jpg', 'frame1380.jpg', 'frame1050.jpg', 'frame1320.jpg', 'frame1140.jpg', 'frame450.jpg', 'frame390.jpg', 'frame990.jpg', 'frame330.jpg', 'frame1260.jpg', 'frame1770.jpg', 'frame510.jpg', 'frame750.jpg', 'frame120.jpg', 'frame690.jpg', 'sample_data']\n"
          ],
          "name": "stdout"
        }
      ]
    },
    {
      "cell_type": "markdown",
      "metadata": {
        "id": "92bqcXYI6NhM"
      },
      "source": [
        "## Count numbers of jpg in CWD\n",
        "\n",
        "\n"
      ]
    },
    {
      "cell_type": "code",
      "metadata": {
        "colab": {
          "base_uri": "https://localhost:8080/"
        },
        "id": "IzBF7kRc51Od",
        "outputId": "f140eec6-e153-42ff-e20f-a8bc76a8ee91"
      },
      "source": [
        "import os, os.path\n",
        "\n",
        "# simple version for working with CWD\n",
        "print (len([name for name in os.listdir('.') if os.path.isfile(name)]))"
      ],
      "execution_count": null,
      "outputs": [
        {
          "output_type": "stream",
          "text": [
            "63\n"
          ],
          "name": "stdout"
        }
      ]
    },
    {
      "cell_type": "markdown",
      "metadata": {
        "id": "vqp-mHIneG2q"
      },
      "source": [
        "## Save all captured images"
      ]
    },
    {
      "cell_type": "markdown",
      "metadata": {
        "id": "ioE9eqhi010I"
      },
      "source": [
        "## Download multiple files or an entire folder from colab "
      ]
    },
    {
      "cell_type": "code",
      "metadata": {
        "colab": {
          "base_uri": "https://localhost:8080/",
          "height": 17
        },
        "id": "vMLom-Wl1AnC",
        "outputId": "f6f5fa54-5dba-4aae-d8ab-d953b455d622"
      },
      "source": [
        "from google.colab import files\n",
        "files.download(\"/content/frame30.jpg\")    "
      ],
      "execution_count": null,
      "outputs": [
        {
          "output_type": "display_data",
          "data": {
            "application/javascript": [
              "\n",
              "    async function download(id, filename, size) {\n",
              "      if (!google.colab.kernel.accessAllowed) {\n",
              "        return;\n",
              "      }\n",
              "      const div = document.createElement('div');\n",
              "      const label = document.createElement('label');\n",
              "      label.textContent = `Downloading \"${filename}\": `;\n",
              "      div.appendChild(label);\n",
              "      const progress = document.createElement('progress');\n",
              "      progress.max = size;\n",
              "      div.appendChild(progress);\n",
              "      document.body.appendChild(div);\n",
              "\n",
              "      const buffers = [];\n",
              "      let downloaded = 0;\n",
              "\n",
              "      const channel = await google.colab.kernel.comms.open(id);\n",
              "      // Send a message to notify the kernel that we're ready.\n",
              "      channel.send({})\n",
              "\n",
              "      for await (const message of channel.messages) {\n",
              "        // Send a message to notify the kernel that we're ready.\n",
              "        channel.send({})\n",
              "        if (message.buffers) {\n",
              "          for (const buffer of message.buffers) {\n",
              "            buffers.push(buffer);\n",
              "            downloaded += buffer.byteLength;\n",
              "            progress.value = downloaded;\n",
              "          }\n",
              "        }\n",
              "      }\n",
              "      const blob = new Blob(buffers, {type: 'application/binary'});\n",
              "      const a = document.createElement('a');\n",
              "      a.href = window.URL.createObjectURL(blob);\n",
              "      a.download = filename;\n",
              "      div.appendChild(a);\n",
              "      a.click();\n",
              "      div.remove();\n",
              "    }\n",
              "  "
            ],
            "text/plain": [
              "<IPython.core.display.Javascript object>"
            ]
          },
          "metadata": {
            "tags": []
          }
        },
        {
          "output_type": "display_data",
          "data": {
            "application/javascript": [
              "download(\"download_e6dc88a0-8a3c-4ca6-9d7d-07e43397b7b1\", \"frame30.jpg\", 311254)"
            ],
            "text/plain": [
              "<IPython.core.display.Javascript object>"
            ]
          },
          "metadata": {
            "tags": []
          }
        }
      ]
    },
    {
      "cell_type": "markdown",
      "metadata": {
        "id": "2TezFY1K7LFH"
      },
      "source": [
        "## Download an entire folder "
      ]
    },
    {
      "cell_type": "code",
      "metadata": {
        "colab": {
          "base_uri": "https://localhost:8080/"
        },
        "id": "rTsEX2m-2U82",
        "outputId": "ff245684-12cd-424c-f477-52cc600fc975"
      },
      "source": [
        "# !zip -r /content/file.zip /content/Folder_To_Zip\n",
        "!zip -r /content/file.zip /content/*jpg"
      ],
      "execution_count": null,
      "outputs": [
        {
          "output_type": "stream",
          "text": [
            "updating: content/frame0.jpg (deflated 0%)\n",
            "updating: content/frame1020.jpg (deflated 0%)\n",
            "updating: content/frame1050.jpg (deflated 0%)\n",
            "updating: content/frame1080.jpg (deflated 0%)\n",
            "updating: content/frame1110.jpg (deflated 1%)\n",
            "updating: content/frame1140.jpg (deflated 0%)\n",
            "updating: content/frame1170.jpg (deflated 0%)\n",
            "updating: content/frame1200.jpg (deflated 1%)\n",
            "updating: content/frame120.jpg (deflated 0%)\n",
            "updating: content/frame1230.jpg (deflated 1%)\n",
            "updating: content/frame1260.jpg (deflated 0%)\n",
            "updating: content/frame1290.jpg (deflated 1%)\n",
            "updating: content/frame1320.jpg (deflated 0%)\n",
            "updating: content/frame1350.jpg (deflated 0%)\n",
            "updating: content/frame1380.jpg (deflated 0%)\n",
            "updating: content/frame1410.jpg (deflated 0%)\n",
            "updating: content/frame1440.jpg (deflated 0%)\n",
            "updating: content/frame1470.jpg (deflated 0%)\n",
            "updating: content/frame1500.jpg (deflated 0%)\n",
            "updating: content/frame150.jpg (deflated 0%)\n",
            "updating: content/frame1530.jpg (deflated 0%)\n",
            "updating: content/frame1560.jpg (deflated 0%)\n",
            "updating: content/frame1590.jpg (deflated 1%)\n",
            "updating: content/frame1620.jpg (deflated 0%)\n",
            "updating: content/frame1650.jpg (deflated 0%)\n",
            "updating: content/frame1680.jpg (deflated 0%)\n",
            "updating: content/frame1710.jpg (deflated 0%)\n",
            "updating: content/frame1740.jpg (deflated 0%)\n",
            "updating: content/frame1770.jpg (deflated 0%)\n",
            "updating: content/frame1800.jpg (deflated 0%)\n",
            "updating: content/frame180.jpg (deflated 0%)\n",
            "updating: content/frame1830.jpg (deflated 0%)\n",
            "updating: content/frame210.jpg (deflated 0%)\n",
            "updating: content/frame240.jpg (deflated 0%)\n",
            "updating: content/frame270.jpg (deflated 0%)\n",
            "updating: content/frame300.jpg (deflated 0%)\n",
            "updating: content/frame30.jpg (deflated 0%)\n",
            "updating: content/frame330.jpg (deflated 0%)\n",
            "updating: content/frame360.jpg (deflated 0%)\n",
            "updating: content/frame390.jpg (deflated 1%)\n",
            "updating: content/frame420.jpg (deflated 1%)\n",
            "updating: content/frame450.jpg (deflated 1%)\n",
            "updating: content/frame480.jpg (deflated 0%)\n",
            "updating: content/frame510.jpg (deflated 2%)\n",
            "updating: content/frame540.jpg (deflated 1%)\n",
            "updating: content/frame570.jpg (deflated 1%)\n",
            "updating: content/frame600.jpg (deflated 0%)\n",
            "updating: content/frame60.jpg (deflated 0%)\n",
            "updating: content/frame630.jpg (deflated 0%)\n",
            "updating: content/frame660.jpg (deflated 0%)\n",
            "updating: content/frame690.jpg (deflated 0%)\n",
            "updating: content/frame720.jpg (deflated 0%)\n",
            "updating: content/frame750.jpg (deflated 0%)\n",
            "updating: content/frame780.jpg (deflated 0%)\n",
            "updating: content/frame810.jpg (deflated 0%)\n",
            "updating: content/frame840.jpg (deflated 0%)\n",
            "updating: content/frame870.jpg (deflated 1%)\n",
            "updating: content/frame900.jpg (deflated 0%)\n",
            "updating: content/frame90.jpg (deflated 0%)\n",
            "updating: content/frame930.jpg (deflated 1%)\n",
            "updating: content/frame960.jpg (deflated 0%)\n",
            "updating: content/frame990.jpg (deflated 0%)\n"
          ],
          "name": "stdout"
        }
      ]
    },
    {
      "cell_type": "markdown",
      "metadata": {
        "id": "JRD9IIhxqihS"
      },
      "source": [
        "#2. Process Data \n",
        "## 2.1 Rename data \n"
      ]
    },
    {
      "cell_type": "code",
      "metadata": {
        "id": "lippKlRxqlJn"
      },
      "source": [
        ""
      ],
      "execution_count": null,
      "outputs": []
    },
    {
      "cell_type": "markdown",
      "metadata": {
        "id": "UO-U3pxgqsvF"
      },
      "source": [
        "## 2.2 Label data \n"
      ]
    }
  ]
}